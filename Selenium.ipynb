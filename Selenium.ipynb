{
 "cells": [
  {
   "cell_type": "code",
   "execution_count": 53,
   "id": "54bd73bb-a325-42f7-a439-8b26ea678635",
   "metadata": {},
   "outputs": [],
   "source": [
    "from selenium import webdriver\n",
    "from selenium.webdriver.common.by import By\n",
    "from selenium.webdriver.common.keys import Keys\n",
    "import time\n",
    "import pandas as pd "
   ]
  },
  {
   "cell_type": "code",
   "execution_count": null,
   "id": "9e36ac04-b943-468d-a5e5-09f0f068c985",
   "metadata": {},
   "outputs": [],
   "source": [
    "# QUESTION - 1"
   ]
  },
  {
   "cell_type": "code",
   "execution_count": null,
   "id": "871acb20-6042-4882-8e85-8a4424319670",
   "metadata": {},
   "outputs": [],
   "source": [
    "# scraping jobs from naukri.com"
   ]
  },
  {
   "cell_type": "code",
   "execution_count": 55,
   "id": "0770ab52-98fd-46ba-990c-00f438f392c0",
   "metadata": {},
   "outputs": [],
   "source": [
    "driver = webdriver.Chrome() "
   ]
  },
  {
   "cell_type": "code",
   "execution_count": 57,
   "id": "8eaa20a5-4680-4af0-9138-755229490d3c",
   "metadata": {},
   "outputs": [],
   "source": [
    "driver.get(\"https://www.naukri.com/\") "
   ]
  },
  {
   "cell_type": "code",
   "execution_count": 59,
   "id": "9df1f5b0-63bf-4a51-811c-16995fead05d",
   "metadata": {},
   "outputs": [],
   "source": [
    "designation = driver.find_element(By.CLASS_NAME, \"suggestor-input\")\n",
    "designation.send_keys('Data Scientist') "
   ]
  },
  {
   "cell_type": "code",
   "execution_count": 61,
   "id": "fbc83d1c-0173-49aa-a087-b87abdbd54c2",
   "metadata": {},
   "outputs": [],
   "source": [
    "search_button = driver.find_element(By.CLASS_NAME, \"qsbSubmit\")\n",
    "search_button.click() "
   ]
  },
  {
   "cell_type": "code",
   "execution_count": 63,
   "id": "75c2c09d-b50c-49cf-901f-77ef6a068f8d",
   "metadata": {},
   "outputs": [],
   "source": [
    "location_filter = driver.find_element(By.XPATH, \"/html/body/div/div/main/div[1]/div[1]/div/div/div[2]/div[4]/div[2]/div[3]/label/p/span[1]\")\n",
    "location_filter.click()\n",
    "time.sleep(5)\n",
    "salary_filter = driver.find_element(By.XPATH, \"/html/body/div/div/main/div[1]/div[1]/div/div/div[2]/div[5]/div[2]/div[2]/label/p/span[1]\")\n",
    "salary_filter.click() "
   ]
  },
  {
   "cell_type": "code",
   "execution_count": 65,
   "id": "ff6a3aa2-f11c-44bf-92d0-ceb6525b469f",
   "metadata": {},
   "outputs": [],
   "source": [
    "job_title = []\n",
    "job_location = []\n",
    "company_name = []\n",
    "experience_required = [] "
   ]
  },
  {
   "cell_type": "code",
   "execution_count": 67,
   "id": "65b711b2-cb64-44f2-a78a-8ccb8ed4d005",
   "metadata": {},
   "outputs": [],
   "source": [
    "title_tags = driver.find_elements(By.XPATH, '//a[@class=\"title \"]')\n",
    "location_tags = driver.find_elements(By.XPATH, '//span[@class=\"locWdth\"]')\n",
    "company_tags = driver.find_elements(By.XPATH, '//a[@class=\" comp-name mw-25\"]')\n",
    "experience_tags = driver.find_elements(By.XPATH, '//span[@class=\"expwdth\"]') "
   ]
  },
  {
   "cell_type": "code",
   "execution_count": 69,
   "id": "6bc04665-1261-4403-8533-48603766efce",
   "metadata": {},
   "outputs": [],
   "source": [
    "title_tags = title_tags[:10]\n",
    "location_tags = location_tags[:10]\n",
    "company_tags = company_tags[:10]\n",
    "experience_tags = experience_tags[:10] "
   ]
  },
  {
   "cell_type": "code",
   "execution_count": 71,
   "id": "1be1c48e-1272-4664-910c-33227f73a5ba",
   "metadata": {},
   "outputs": [],
   "source": [
    "for i in title_tags:\n",
    "    title = i.text\n",
    "    job_title.append(title)\n",
    "\n",
    "for i in location_tags:\n",
    "    location = i.text\n",
    "    job_location.append(location)\n",
    "\n",
    "for i in company_tags:\n",
    "    company = i.text\n",
    "    company_name.append(company)\n",
    "\n",
    "for i in experience_tags:\n",
    "    exp = i.text\n",
    "    experience_required.append(exp) "
   ]
  },
  {
   "cell_type": "code",
   "execution_count": 73,
   "id": "ac9edfca-60ad-4d0d-bf20-54cbe9b532bd",
   "metadata": {},
   "outputs": [
    {
     "name": "stdout",
     "output_type": "stream",
     "text": [
      "10 10 10 10\n"
     ]
    }
   ],
   "source": [
    "print(len(job_title), len(job_location), len(company_name), len(experience_required)) "
   ]
  },
  {
   "cell_type": "code",
   "execution_count": 75,
   "id": "fad31852-7714-4d25-98ff-1c38620dbb18",
   "metadata": {},
   "outputs": [
    {
     "data": {
      "text/html": [
       "<div>\n",
       "<style scoped>\n",
       "    .dataframe tbody tr th:only-of-type {\n",
       "        vertical-align: middle;\n",
       "    }\n",
       "\n",
       "    .dataframe tbody tr th {\n",
       "        vertical-align: top;\n",
       "    }\n",
       "\n",
       "    .dataframe thead th {\n",
       "        text-align: right;\n",
       "    }\n",
       "</style>\n",
       "<table border=\"1\" class=\"dataframe\">\n",
       "  <thead>\n",
       "    <tr style=\"text-align: right;\">\n",
       "      <th></th>\n",
       "      <th>Title</th>\n",
       "      <th>Location</th>\n",
       "      <th>Company_name</th>\n",
       "      <th>Experience</th>\n",
       "    </tr>\n",
       "  </thead>\n",
       "  <tbody>\n",
       "    <tr>\n",
       "      <th>0</th>\n",
       "      <td>Data Scientist</td>\n",
       "      <td>Kolkata, Mumbai, New Delhi, Hyderabad, Pune, C...</td>\n",
       "      <td>Nityo Infotech</td>\n",
       "      <td>3-7 Yrs</td>\n",
       "    </tr>\n",
       "    <tr>\n",
       "      <th>1</th>\n",
       "      <td>Data Scientist (AI/ML)|| US Based MNC || Noida</td>\n",
       "      <td>Hybrid - Noida</td>\n",
       "      <td>Collegedunia</td>\n",
       "      <td>3-5 Yrs</td>\n",
       "    </tr>\n",
       "    <tr>\n",
       "      <th>2</th>\n",
       "      <td>Data Scientist</td>\n",
       "      <td>Gurugram</td>\n",
       "      <td>Growthjockey</td>\n",
       "      <td>0-2 Yrs</td>\n",
       "    </tr>\n",
       "    <tr>\n",
       "      <th>3</th>\n",
       "      <td>Data Analyst</td>\n",
       "      <td>New Delhi</td>\n",
       "      <td>Biz Tech Consultants</td>\n",
       "      <td>0-5 Yrs</td>\n",
       "    </tr>\n",
       "    <tr>\n",
       "      <th>4</th>\n",
       "      <td>Data Analyst</td>\n",
       "      <td>Gurugram</td>\n",
       "      <td>Biz Tech Consultants</td>\n",
       "      <td>0-1 Yrs</td>\n",
       "    </tr>\n",
       "    <tr>\n",
       "      <th>5</th>\n",
       "      <td></td>\n",
       "      <td>Kolkata, Mumbai, New Delhi, Hyderabad, Pune, C...</td>\n",
       "      <td>Biz Tech Consultants</td>\n",
       "      <td>2-6 Yrs</td>\n",
       "    </tr>\n",
       "    <tr>\n",
       "      <th>6</th>\n",
       "      <td></td>\n",
       "      <td>Gurugram</td>\n",
       "      <td>PayU</td>\n",
       "      <td>3-8 Yrs</td>\n",
       "    </tr>\n",
       "    <tr>\n",
       "      <th>7</th>\n",
       "      <td></td>\n",
       "      <td>Ghaziabad</td>\n",
       "      <td>Innovaccer</td>\n",
       "      <td>3-8 Yrs</td>\n",
       "    </tr>\n",
       "    <tr>\n",
       "      <th>8</th>\n",
       "      <td>Data Scientist</td>\n",
       "      <td>Noida</td>\n",
       "      <td>IBM</td>\n",
       "      <td>3-8 Yrs</td>\n",
       "    </tr>\n",
       "    <tr>\n",
       "      <th>9</th>\n",
       "      <td>Data scientist</td>\n",
       "      <td>Gurugram, Bengaluru</td>\n",
       "      <td>Times Internet</td>\n",
       "      <td>2-7 Yrs</td>\n",
       "    </tr>\n",
       "  </tbody>\n",
       "</table>\n",
       "</div>"
      ],
      "text/plain": [
       "                                            Title  \\\n",
       "0                                  Data Scientist   \n",
       "1  Data Scientist (AI/ML)|| US Based MNC || Noida   \n",
       "2                                  Data Scientist   \n",
       "3                                    Data Analyst   \n",
       "4                                    Data Analyst   \n",
       "5                                                   \n",
       "6                                                   \n",
       "7                                                   \n",
       "8                                  Data Scientist   \n",
       "9                                  Data scientist   \n",
       "\n",
       "                                            Location          Company_name  \\\n",
       "0  Kolkata, Mumbai, New Delhi, Hyderabad, Pune, C...        Nityo Infotech   \n",
       "1                                     Hybrid - Noida          Collegedunia   \n",
       "2                                           Gurugram          Growthjockey   \n",
       "3                                          New Delhi  Biz Tech Consultants   \n",
       "4                                           Gurugram  Biz Tech Consultants   \n",
       "5  Kolkata, Mumbai, New Delhi, Hyderabad, Pune, C...  Biz Tech Consultants   \n",
       "6                                           Gurugram                  PayU   \n",
       "7                                          Ghaziabad            Innovaccer   \n",
       "8                                              Noida                   IBM   \n",
       "9                                Gurugram, Bengaluru        Times Internet   \n",
       "\n",
       "  Experience  \n",
       "0    3-7 Yrs  \n",
       "1    3-5 Yrs  \n",
       "2    0-2 Yrs  \n",
       "3    0-5 Yrs  \n",
       "4    0-1 Yrs  \n",
       "5    2-6 Yrs  \n",
       "6    3-8 Yrs  \n",
       "7    3-8 Yrs  \n",
       "8    3-8 Yrs  \n",
       "9    2-7 Yrs  "
      ]
     },
     "execution_count": 75,
     "metadata": {},
     "output_type": "execute_result"
    }
   ],
   "source": [
    "import pandas as pd\n",
    "df = pd.DataFrame({'Title':job_title, 'Location':job_location, 'Company_name':company_name, 'Experience':experience_required})\n",
    "df "
   ]
  },
  {
   "cell_type": "code",
   "execution_count": null,
   "id": "723f2979-265a-4e24-a350-c8b214c26a33",
   "metadata": {},
   "outputs": [],
   "source": [
    "# QUESTION - 2"
   ]
  },
  {
   "cell_type": "code",
   "execution_count": null,
   "id": "db25f1a3-8418-4428-91c1-bf40cd7a9d79",
   "metadata": {},
   "outputs": [],
   "source": [
    "# amazon laptop question"
   ]
  },
  {
   "cell_type": "code",
   "execution_count": 215,
   "id": "2494d8aa-04cb-4deb-8f52-d11856c29eec",
   "metadata": {},
   "outputs": [],
   "source": [
    "driver = webdriver.Chrome() "
   ]
  },
  {
   "cell_type": "code",
   "execution_count": 217,
   "id": "d813041e-ce8c-421e-8d3e-82839e4b78a2",
   "metadata": {},
   "outputs": [],
   "source": [
    "driver.get(\"http://www.amazon.in/\") "
   ]
  },
  {
   "cell_type": "code",
   "execution_count": 219,
   "id": "7e1ec3be-03d0-40b5-9bb7-fb72e789c182",
   "metadata": {},
   "outputs": [],
   "source": [
    "designation = driver.find_element(By.ID, \"twotabsearchtextbox\")\n",
    "designation.send_keys('Laptop') "
   ]
  },
  {
   "cell_type": "code",
   "execution_count": 221,
   "id": "26eed199-0819-4d6e-97d9-4af14c17683e",
   "metadata": {},
   "outputs": [],
   "source": [
    "search_btn = driver.find_element(By.ID, \"nav-search-submit-button\")\n",
    "search_btn.click() "
   ]
  },
  {
   "cell_type": "code",
   "execution_count": 223,
   "id": "98f24012-78fd-4037-a9d5-5088c2350764",
   "metadata": {},
   "outputs": [],
   "source": [
    "cpu_filter = driver.find_element(By.XPATH, \"/html/body/div[1]/div[1]/div[1]/div[2]/div/div[3]/span/div[1]/span/div/div/div[6]/ul[2]/span/span[9]/li/span/a/span\")\n",
    "cpu_filter.click() "
   ]
  },
  {
   "cell_type": "code",
   "execution_count": 225,
   "id": "9f7318ea-596d-4b38-8948-9b2303179ac0",
   "metadata": {},
   "outputs": [],
   "source": [
    "laptop_title = [] \n",
    "laptop_rating = []\n",
    "laptop_price = [] "
   ]
  },
  {
   "cell_type": "code",
   "execution_count": 227,
   "id": "cfe303a2-ca3b-41c7-a5d1-f6fac29bf4af",
   "metadata": {},
   "outputs": [],
   "source": [
    "title_tags = driver.find_elements(By.XPATH, '//h2[@class=\"a-size-mini a-spacing-none a-color-base s-line-clamp-2\"]') \n",
    "rating_tags = driver.find_elements(By.XPATH, '//i[@class=\"a-icon a-icon-star-small a-star-small-3-5\"]') \n",
    "price_tags = driver.find_elements(By.XPATH, '//span[@class=\"a-price-whole\"]') "
   ]
  },
  {
   "cell_type": "code",
   "execution_count": 229,
   "id": "5b205b00-a989-464f-b19e-8c1f5590d1d0",
   "metadata": {},
   "outputs": [],
   "source": [
    "title_tags = title_tags[:10]\n",
    "rating_tags = price_tags[:10]\n",
    "price_tags = price_tags[:10] "
   ]
  },
  {
   "cell_type": "code",
   "execution_count": 231,
   "id": "22d82855-6084-4a74-aa31-842ecbed600e",
   "metadata": {},
   "outputs": [],
   "source": [
    "for i in title_tags:\n",
    "    title = i.text\n",
    "    laptop_title.append(title)\n",
    "\n",
    "for i in rating_tags:\n",
    "    rating = i.text\n",
    "    laptop_rating.append(rating)\n",
    "\n",
    "for i in price_tags:\n",
    "    price = i.text\n",
    "    laptop_price.append(price) "
   ]
  },
  {
   "cell_type": "code",
   "execution_count": 233,
   "id": "dfb9765b-c63b-4c59-968c-0c829d3c60e9",
   "metadata": {},
   "outputs": [
    {
     "name": "stdout",
     "output_type": "stream",
     "text": [
      "10 10 10\n"
     ]
    }
   ],
   "source": [
    "print(len(laptop_title), len(laptop_rating), len(laptop_price))  "
   ]
  },
  {
   "cell_type": "code",
   "execution_count": 235,
   "id": "72cf725e-a485-4a2a-9ec1-9c69d33aaa38",
   "metadata": {},
   "outputs": [
    {
     "data": {
      "text/html": [
       "<div>\n",
       "<style scoped>\n",
       "    .dataframe tbody tr th:only-of-type {\n",
       "        vertical-align: middle;\n",
       "    }\n",
       "\n",
       "    .dataframe tbody tr th {\n",
       "        vertical-align: top;\n",
       "    }\n",
       "\n",
       "    .dataframe thead th {\n",
       "        text-align: right;\n",
       "    }\n",
       "</style>\n",
       "<table border=\"1\" class=\"dataframe\">\n",
       "  <thead>\n",
       "    <tr style=\"text-align: right;\">\n",
       "      <th></th>\n",
       "      <th>Title</th>\n",
       "      <th>Rating</th>\n",
       "      <th>Price</th>\n",
       "    </tr>\n",
       "  </thead>\n",
       "  <tbody>\n",
       "    <tr>\n",
       "      <th>0</th>\n",
       "      <td>HP Laptop 15s, 12th Gen Intel Core i7-1255U, 1...</td>\n",
       "      <td>46,490</td>\n",
       "      <td>46,490</td>\n",
       "    </tr>\n",
       "    <tr>\n",
       "      <th>1</th>\n",
       "      <td>HP Pavilion 14 12th Gen Intel Core i7 16GB SDR...</td>\n",
       "      <td>47,990</td>\n",
       "      <td>47,990</td>\n",
       "    </tr>\n",
       "    <tr>\n",
       "      <th>2</th>\n",
       "      <td>Acer ALG 13th Gen Intel Core i7 Gaming Laptop ...</td>\n",
       "      <td>52,990</td>\n",
       "      <td>52,990</td>\n",
       "    </tr>\n",
       "    <tr>\n",
       "      <th>3</th>\n",
       "      <td>Dell [Smartchoice] Inspiron 5430 Thin &amp; Light ...</td>\n",
       "      <td>59,990</td>\n",
       "      <td>59,990</td>\n",
       "    </tr>\n",
       "    <tr>\n",
       "      <th>4</th>\n",
       "      <td>(Refurbished) Dell Latitude 7480 14in FHD Lapt...</td>\n",
       "      <td>76,990</td>\n",
       "      <td>76,990</td>\n",
       "    </tr>\n",
       "    <tr>\n",
       "      <th>5</th>\n",
       "      <td>Acer Aspire Lite 12th Gen Intel Core i7-1255U ...</td>\n",
       "      <td>71,990</td>\n",
       "      <td>71,990</td>\n",
       "    </tr>\n",
       "    <tr>\n",
       "      <th>6</th>\n",
       "      <td>ASUS TUF Gaming F15, 15.6\" (39.62cm) FHD 144Hz...</td>\n",
       "      <td>52,990</td>\n",
       "      <td>52,990</td>\n",
       "    </tr>\n",
       "    <tr>\n",
       "      <th>7</th>\n",
       "      <td>Dell Inspiron 3530 Laptop, 13th Generation Int...</td>\n",
       "      <td>75,490</td>\n",
       "      <td>75,490</td>\n",
       "    </tr>\n",
       "    <tr>\n",
       "      <th>8</th>\n",
       "      <td>Acer Aspire 3 Intel Core i7 12th Gen 1255U - (...</td>\n",
       "      <td>27,531</td>\n",
       "      <td>27,531</td>\n",
       "    </tr>\n",
       "    <tr>\n",
       "      <th>9</th>\n",
       "      <td>MSI Thin 15, Intel 13th Gen. Core i7-13620H, 4...</td>\n",
       "      <td>49,990</td>\n",
       "      <td>49,990</td>\n",
       "    </tr>\n",
       "  </tbody>\n",
       "</table>\n",
       "</div>"
      ],
      "text/plain": [
       "                                               Title  Rating   Price\n",
       "0  HP Laptop 15s, 12th Gen Intel Core i7-1255U, 1...  46,490  46,490\n",
       "1  HP Pavilion 14 12th Gen Intel Core i7 16GB SDR...  47,990  47,990\n",
       "2  Acer ALG 13th Gen Intel Core i7 Gaming Laptop ...  52,990  52,990\n",
       "3  Dell [Smartchoice] Inspiron 5430 Thin & Light ...  59,990  59,990\n",
       "4  (Refurbished) Dell Latitude 7480 14in FHD Lapt...  76,990  76,990\n",
       "5  Acer Aspire Lite 12th Gen Intel Core i7-1255U ...  71,990  71,990\n",
       "6  ASUS TUF Gaming F15, 15.6\" (39.62cm) FHD 144Hz...  52,990  52,990\n",
       "7  Dell Inspiron 3530 Laptop, 13th Generation Int...  75,490  75,490\n",
       "8  Acer Aspire 3 Intel Core i7 12th Gen 1255U - (...  27,531  27,531\n",
       "9  MSI Thin 15, Intel 13th Gen. Core i7-13620H, 4...  49,990  49,990"
      ]
     },
     "execution_count": 235,
     "metadata": {},
     "output_type": "execute_result"
    }
   ],
   "source": [
    "import pandas as pd\n",
    "df = pd.DataFrame({'Title':laptop_title, 'Rating':laptop_rating, 'Price':laptop_price}) \n",
    "df "
   ]
  },
  {
   "cell_type": "code",
   "execution_count": null,
   "id": "02915290-f37b-41d6-88b4-a27e9e5d1976",
   "metadata": {},
   "outputs": [],
   "source": [
    "# QUESTION - 3 "
   ]
  },
  {
   "cell_type": "code",
   "execution_count": null,
   "id": "eb8b4675-91e1-4f05-8199-56a0250749b5",
   "metadata": {},
   "outputs": [],
   "source": [
    "# scrape data of top 100 quotes of all time "
   ]
  },
  {
   "cell_type": "code",
   "execution_count": 237,
   "id": "e07a403a-bffd-461f-829d-ef479627f0ac",
   "metadata": {},
   "outputs": [],
   "source": [
    "driver = webdriver.Chrome() "
   ]
  },
  {
   "cell_type": "code",
   "execution_count": 239,
   "id": "28332475-9cb4-4595-beef-8be1b6900e3d",
   "metadata": {},
   "outputs": [],
   "source": [
    "driver.get(\"http://www.azquotes.com/\") "
   ]
  },
  {
   "cell_type": "code",
   "execution_count": 241,
   "id": "1197bc30-d857-4ca6-902d-5dae2e30b7e2",
   "metadata": {},
   "outputs": [],
   "source": [
    "top_quotes = driver.find_element(By.XPATH, \"/html/body/div[1]/div[1]/div[1]/div/div[3]/ul/li[5]/a\")\n",
    "top_quotes.click()  "
   ]
  },
  {
   "cell_type": "code",
   "execution_count": 243,
   "id": "bf0e71f9-7a7b-46dc-b3ad-8b77b7ef06d1",
   "metadata": {},
   "outputs": [],
   "source": [
    "quote = [] \n",
    "author = []\n",
    "type_of_quote = [] "
   ]
  },
  {
   "cell_type": "code",
   "execution_count": 245,
   "id": "2f824ce7-3753-4d92-963c-ee4fb0e8fc48",
   "metadata": {},
   "outputs": [],
   "source": [
    "quote_tags = driver.find_elements(By.XPATH, '//a[@class=\"title\"]') \n",
    "author_tags = driver.find_elements(By.XPATH, '//div[@class=\"author\"]') \n",
    "type_tags = driver.find_elements(By.XPATH, '//div[@class=\"tags\"]')  "
   ]
  },
  {
   "cell_type": "code",
   "execution_count": 247,
   "id": "1dd3bc76-a376-464d-bd92-f9e87cbfc2aa",
   "metadata": {},
   "outputs": [],
   "source": [
    "for i in quote_tags:\n",
    "    quot = i.text\n",
    "    quote.append(quot)\n",
    "\n",
    "for i in author_tags:\n",
    "    auth = i.text\n",
    "    author.append(auth)\n",
    "\n",
    "for i in type_tags:\n",
    "    typeofquote = i.text\n",
    "    type_of_quote.append(typeofquote) "
   ]
  },
  {
   "cell_type": "code",
   "execution_count": 249,
   "id": "59fb122b-42b3-4394-b504-6d97a68675c8",
   "metadata": {},
   "outputs": [
    {
     "name": "stdout",
     "output_type": "stream",
     "text": [
      "100 100 100\n"
     ]
    }
   ],
   "source": [
    "print(len(quote), len(author), len(type_of_quote))   "
   ]
  },
  {
   "cell_type": "code",
   "execution_count": 251,
   "id": "7ee8a81d-fb26-403a-9754-a14e53f1268a",
   "metadata": {},
   "outputs": [
    {
     "data": {
      "text/html": [
       "<div>\n",
       "<style scoped>\n",
       "    .dataframe tbody tr th:only-of-type {\n",
       "        vertical-align: middle;\n",
       "    }\n",
       "\n",
       "    .dataframe tbody tr th {\n",
       "        vertical-align: top;\n",
       "    }\n",
       "\n",
       "    .dataframe thead th {\n",
       "        text-align: right;\n",
       "    }\n",
       "</style>\n",
       "<table border=\"1\" class=\"dataframe\">\n",
       "  <thead>\n",
       "    <tr style=\"text-align: right;\">\n",
       "      <th></th>\n",
       "      <th>Quote</th>\n",
       "      <th>Author</th>\n",
       "      <th>Type of Quote</th>\n",
       "    </tr>\n",
       "  </thead>\n",
       "  <tbody>\n",
       "    <tr>\n",
       "      <th>0</th>\n",
       "      <td>The essence of strategy is choosing what not t...</td>\n",
       "      <td>Michael Porter</td>\n",
       "      <td>Essence, Deep Thought, Transcendentalism</td>\n",
       "    </tr>\n",
       "    <tr>\n",
       "      <th>1</th>\n",
       "      <td>One cannot and must not try to erase the past ...</td>\n",
       "      <td>Golda Meir</td>\n",
       "      <td>Inspiration, Past, Trying</td>\n",
       "    </tr>\n",
       "    <tr>\n",
       "      <th>2</th>\n",
       "      <td>Patriotism means to stand by the country. It d...</td>\n",
       "      <td>Theodore Roosevelt</td>\n",
       "      <td>Country, Peace, War</td>\n",
       "    </tr>\n",
       "    <tr>\n",
       "      <th>3</th>\n",
       "      <td>Death is something inevitable. When a man has ...</td>\n",
       "      <td>Nelson Mandela</td>\n",
       "      <td>Inspirational, Motivational, Death</td>\n",
       "    </tr>\n",
       "    <tr>\n",
       "      <th>4</th>\n",
       "      <td>You have to love a nation that celebrates its ...</td>\n",
       "      <td>Erma Bombeck</td>\n",
       "      <td>4th Of July, Food, Patriotic</td>\n",
       "    </tr>\n",
       "    <tr>\n",
       "      <th>...</th>\n",
       "      <td>...</td>\n",
       "      <td>...</td>\n",
       "      <td>...</td>\n",
       "    </tr>\n",
       "    <tr>\n",
       "      <th>95</th>\n",
       "      <td>When the going gets weird, the weird turn pro.</td>\n",
       "      <td>Hunter S. Thompson</td>\n",
       "      <td>Music, Sports, Hunting</td>\n",
       "    </tr>\n",
       "    <tr>\n",
       "      <th>96</th>\n",
       "      <td>When a train goes through a tunnel and it gets...</td>\n",
       "      <td>Corrie Ten Boom</td>\n",
       "      <td>Trust, Encouraging, Uplifting</td>\n",
       "    </tr>\n",
       "    <tr>\n",
       "      <th>97</th>\n",
       "      <td>If you think you are too small to make a diffe...</td>\n",
       "      <td>Dalai Lama</td>\n",
       "      <td>Inspirational, Funny, Change</td>\n",
       "    </tr>\n",
       "    <tr>\n",
       "      <th>98</th>\n",
       "      <td>God doesn't require us to succeed, he only req...</td>\n",
       "      <td>Mother Teresa</td>\n",
       "      <td>Success, God, Mother</td>\n",
       "    </tr>\n",
       "    <tr>\n",
       "      <th>99</th>\n",
       "      <td>Change your thoughts and you change your world.</td>\n",
       "      <td>Norman Vincent Peale</td>\n",
       "      <td>Inspirational, Motivational, Change</td>\n",
       "    </tr>\n",
       "  </tbody>\n",
       "</table>\n",
       "<p>100 rows × 3 columns</p>\n",
       "</div>"
      ],
      "text/plain": [
       "                                                Quote                Author  \\\n",
       "0   The essence of strategy is choosing what not t...        Michael Porter   \n",
       "1   One cannot and must not try to erase the past ...            Golda Meir   \n",
       "2   Patriotism means to stand by the country. It d...    Theodore Roosevelt   \n",
       "3   Death is something inevitable. When a man has ...        Nelson Mandela   \n",
       "4   You have to love a nation that celebrates its ...          Erma Bombeck   \n",
       "..                                                ...                   ...   \n",
       "95     When the going gets weird, the weird turn pro.    Hunter S. Thompson   \n",
       "96  When a train goes through a tunnel and it gets...       Corrie Ten Boom   \n",
       "97  If you think you are too small to make a diffe...            Dalai Lama   \n",
       "98  God doesn't require us to succeed, he only req...         Mother Teresa   \n",
       "99    Change your thoughts and you change your world.  Norman Vincent Peale   \n",
       "\n",
       "                               Type of Quote  \n",
       "0   Essence, Deep Thought, Transcendentalism  \n",
       "1                  Inspiration, Past, Trying  \n",
       "2                        Country, Peace, War  \n",
       "3         Inspirational, Motivational, Death  \n",
       "4               4th Of July, Food, Patriotic  \n",
       "..                                       ...  \n",
       "95                    Music, Sports, Hunting  \n",
       "96             Trust, Encouraging, Uplifting  \n",
       "97              Inspirational, Funny, Change  \n",
       "98                      Success, God, Mother  \n",
       "99       Inspirational, Motivational, Change  \n",
       "\n",
       "[100 rows x 3 columns]"
      ]
     },
     "execution_count": 251,
     "metadata": {},
     "output_type": "execute_result"
    }
   ],
   "source": [
    "import pandas as pd\n",
    "df = pd.DataFrame({'Quote':quote, 'Author':author, 'Type of Quote':type_of_quote}) \n",
    "df "
   ]
  },
  {
   "cell_type": "code",
   "execution_count": null,
   "id": "a304236d-e7c6-4ff7-a280-db3806eb12d3",
   "metadata": {},
   "outputs": [],
   "source": [
    "# QUESTION - 4"
   ]
  },
  {
   "cell_type": "code",
   "execution_count": null,
   "id": "99347b90-c446-461e-9596-3e419c9afecf",
   "metadata": {},
   "outputs": [],
   "source": [
    "# 50 most expensive cars in the world "
   ]
  },
  {
   "cell_type": "code",
   "execution_count": 471,
   "id": "4730f4ff-2444-4a99-bf91-b73432d59659",
   "metadata": {},
   "outputs": [],
   "source": [
    "driver = webdriver.Chrome() "
   ]
  },
  {
   "cell_type": "code",
   "execution_count": 473,
   "id": "10d9e4f9-e8ab-4ad8-a9e8-381ee94d8d59",
   "metadata": {},
   "outputs": [],
   "source": [
    "driver.get(\"https://www.motor1.com/\") "
   ]
  },
  {
   "cell_type": "code",
   "execution_count": 475,
   "id": "b4fd2772-be32-4c61-a059-8165c6c7772b",
   "metadata": {},
   "outputs": [],
   "source": [
    "search_bar = driver.find_element(By.ID, \"search_input\")\n",
    "search_bar.send_keys('50 most expensive cars') \n",
    "search_button = driver.find_element(By.XPATH, \"/html/body/div[9]/div[2]/div/div/div[3]/div/div/div/form/button[1]\")\n",
    "search_button.click() "
   ]
  },
  {
   "cell_type": "code",
   "execution_count": 477,
   "id": "1179d8b5-e7e5-4c5f-babe-08ee144974a7",
   "metadata": {},
   "outputs": [],
   "source": [
    "article = driver.find_element(By.XPATH, \"/html/body/div[9]/div[9]/div/div[1]/div/div/div[1]/div/div[1]/h3\")\n",
    "article.click()  "
   ]
  },
  {
   "cell_type": "code",
   "execution_count": 479,
   "id": "e2b5d370-a721-48fa-aca7-4b446dcc0237",
   "metadata": {},
   "outputs": [],
   "source": [
    "car_name = []\n",
    "car_price = [] "
   ]
  },
  {
   "cell_type": "code",
   "execution_count": 481,
   "id": "685b227a-975d-4eee-b3e9-b1efc22c0c2a",
   "metadata": {},
   "outputs": [],
   "source": [
    "car_tags = driver.find_elements(By.XPATH, '//h3[@class=\"subheader\"]') \n",
    "price_tags = driver.find_elements(By.XPATH, '//strong[contains(text(), \"$\")]') "
   ]
  },
  {
   "cell_type": "code",
   "execution_count": 483,
   "id": "f334125b-8e7c-4fcd-bf3a-d612b99d5364",
   "metadata": {},
   "outputs": [],
   "source": [
    "car_tags = car_tags[:50]\n",
    "price_tags = price_tags[:50]   "
   ]
  },
  {
   "cell_type": "code",
   "execution_count": 485,
   "id": "e716a8b9-f792-42b0-ab1d-501d79e0a08f",
   "metadata": {},
   "outputs": [],
   "source": [
    "for i in car_tags:\n",
    "    name = i.text\n",
    "    car_name.append(name)\n",
    "\n",
    "for i in price_tags:\n",
    "    price = i.text\n",
    "    car_price.append(price) "
   ]
  },
  {
   "cell_type": "code",
   "execution_count": 487,
   "id": "10b22c53-42e7-46f6-8bdd-30d773bba336",
   "metadata": {},
   "outputs": [
    {
     "name": "stdout",
     "output_type": "stream",
     "text": [
      "50 50\n"
     ]
    }
   ],
   "source": [
    "print(len(car_name), len(car_price)) "
   ]
  },
  {
   "cell_type": "code",
   "execution_count": 489,
   "id": "3ad13222-4bda-4cc8-aae5-889034724f8c",
   "metadata": {},
   "outputs": [
    {
     "name": "stdout",
     "output_type": "stream",
     "text": [
      "['McLaren Senna GTR', 'Czinger 21C', 'Ferrari Monza', 'Gordon Murray T.33', 'Koenigsegg Gemera', 'Hennessey Venom F5', 'Bentley Bacalar', 'Hispano Suiza Carmen Boulogne', 'Bentley Mulliner Batur', 'SSC Tuatara', 'Lotus Evija', 'Aston Martin Vulcan', 'Delage D12', 'Ferrari Daytona SP3', 'McLaren Speedtail', 'Rimac Nevera', 'Pagani Utopia', 'Pininfarina Battista', 'Gordon Murray T.50', 'Lamborghini Countach', 'Hennessey Venom F5 Revolution', 'Mercedes-AMG Project One', 'Zenvo Aurora', 'Aston Martin Victor', 'Hennessey Venom F5 Roadster', 'Koenigsegg Jesko', 'Aspark Owl', 'Aston Martin Valkyrie', 'W Motors Lykan Hypersport', 'McLaren Solus', 'Pagani Huayra Evo R', 'Lamborghini Sian', 'Koenigsegg CC850', 'Bugatti Chiron Super Sport 300+', 'Gordon Murray Automotive T.50s Niki Lauda', 'Pagani Huayra Roadster BC', 'Lamborghini Veneno', 'Bugatti Bolide', 'Pininfarina B95 Speedster', 'Bugatti Mistral', 'Bugatti Divo', 'Pagani Huayra Imola', 'Pagani Codalunga', 'Mercedes-Maybach Exelero', 'Bugatti Centodieci', 'Bugatti Chiron Profilée', 'Rolls-Royce Sweptail', 'Bugatti La Voiture Noire', 'Rolls-Royce Boat Tail', 'Rolls-Royce La Rose Noire Droptail']\n",
      "['$1.7 Million', 'Price: $1.7 Million', 'Price: $1.7 Million', 'Price: $1.7 Million', 'Price: $1.7 Million', 'Price: $1.8 Million', 'Price: $1.9 Million', 'Price: $1.9 Million', 'Price: $2.0 Million', 'Price: $2.0 Million', 'Price: $2.1 Million', 'Price: $2.3 Million', 'Price: $2.3 Million', 'Price: $2.3 Million', 'Price: $2.3 Million', 'Price: $2.4 Million', 'Price: $2.5 Million', 'Price: $2.5 Million', 'Price: $2.6 Million', 'Price: $2.6 Million', '$2.7 Million', 'Price: $2.7 Million', 'Price: $2.8 Million', 'Price: $3.0 Million', '$3.0 Million', 'Price: $3.0 Million', '$3.1 Million', 'Price: $3.2 Million', 'Price: $3.4 Million', '$3.5 Million', '$3.5 Million (est.)', 'Price: $3.6 million', 'Price: $3.7 Million', 'Price: $3.9 Million', '$3.9 Million', '$4.0 Million', 'Price: $4.5 Million', 'Price: $4.7 Million', 'Price: $4.8 Million', 'Price: $5.0 Million', 'Price: $5.8 Million', '$6.0 Million', 'Price: $7.4 Million', 'Price: $8.0 Million', 'Price: $9.0 Million', 'Price: $10.8 Million', 'Price: $12.8 Million', 'Price: $13.4 Million', 'Price: $28.0 Million (est.)', 'Price: $30 Million (est.)']\n"
     ]
    }
   ],
   "source": [
    "print(car_name)\n",
    "print(car_price) "
   ]
  },
  {
   "cell_type": "code",
   "execution_count": 491,
   "id": "aabb342d-7c05-46ea-8c1f-5be127e8b1ff",
   "metadata": {},
   "outputs": [
    {
     "data": {
      "text/html": [
       "<div>\n",
       "<style scoped>\n",
       "    .dataframe tbody tr th:only-of-type {\n",
       "        vertical-align: middle;\n",
       "    }\n",
       "\n",
       "    .dataframe tbody tr th {\n",
       "        vertical-align: top;\n",
       "    }\n",
       "\n",
       "    .dataframe thead th {\n",
       "        text-align: right;\n",
       "    }\n",
       "</style>\n",
       "<table border=\"1\" class=\"dataframe\">\n",
       "  <thead>\n",
       "    <tr style=\"text-align: right;\">\n",
       "      <th></th>\n",
       "      <th>Name</th>\n",
       "      <th>Price</th>\n",
       "    </tr>\n",
       "  </thead>\n",
       "  <tbody>\n",
       "    <tr>\n",
       "      <th>0</th>\n",
       "      <td>McLaren Senna GTR</td>\n",
       "      <td>$1.7 Million</td>\n",
       "    </tr>\n",
       "    <tr>\n",
       "      <th>1</th>\n",
       "      <td>Czinger 21C</td>\n",
       "      <td>Price: $1.7 Million</td>\n",
       "    </tr>\n",
       "    <tr>\n",
       "      <th>2</th>\n",
       "      <td>Ferrari Monza</td>\n",
       "      <td>Price: $1.7 Million</td>\n",
       "    </tr>\n",
       "    <tr>\n",
       "      <th>3</th>\n",
       "      <td>Gordon Murray T.33</td>\n",
       "      <td>Price: $1.7 Million</td>\n",
       "    </tr>\n",
       "    <tr>\n",
       "      <th>4</th>\n",
       "      <td>Koenigsegg Gemera</td>\n",
       "      <td>Price: $1.7 Million</td>\n",
       "    </tr>\n",
       "    <tr>\n",
       "      <th>5</th>\n",
       "      <td>Hennessey Venom F5</td>\n",
       "      <td>Price: $1.8 Million</td>\n",
       "    </tr>\n",
       "    <tr>\n",
       "      <th>6</th>\n",
       "      <td>Bentley Bacalar</td>\n",
       "      <td>Price: $1.9 Million</td>\n",
       "    </tr>\n",
       "    <tr>\n",
       "      <th>7</th>\n",
       "      <td>Hispano Suiza Carmen Boulogne</td>\n",
       "      <td>Price: $1.9 Million</td>\n",
       "    </tr>\n",
       "    <tr>\n",
       "      <th>8</th>\n",
       "      <td>Bentley Mulliner Batur</td>\n",
       "      <td>Price: $2.0 Million</td>\n",
       "    </tr>\n",
       "    <tr>\n",
       "      <th>9</th>\n",
       "      <td>SSC Tuatara</td>\n",
       "      <td>Price: $2.0 Million</td>\n",
       "    </tr>\n",
       "    <tr>\n",
       "      <th>10</th>\n",
       "      <td>Lotus Evija</td>\n",
       "      <td>Price: $2.1 Million</td>\n",
       "    </tr>\n",
       "    <tr>\n",
       "      <th>11</th>\n",
       "      <td>Aston Martin Vulcan</td>\n",
       "      <td>Price: $2.3 Million</td>\n",
       "    </tr>\n",
       "    <tr>\n",
       "      <th>12</th>\n",
       "      <td>Delage D12</td>\n",
       "      <td>Price: $2.3 Million</td>\n",
       "    </tr>\n",
       "    <tr>\n",
       "      <th>13</th>\n",
       "      <td>Ferrari Daytona SP3</td>\n",
       "      <td>Price: $2.3 Million</td>\n",
       "    </tr>\n",
       "    <tr>\n",
       "      <th>14</th>\n",
       "      <td>McLaren Speedtail</td>\n",
       "      <td>Price: $2.3 Million</td>\n",
       "    </tr>\n",
       "    <tr>\n",
       "      <th>15</th>\n",
       "      <td>Rimac Nevera</td>\n",
       "      <td>Price: $2.4 Million</td>\n",
       "    </tr>\n",
       "    <tr>\n",
       "      <th>16</th>\n",
       "      <td>Pagani Utopia</td>\n",
       "      <td>Price: $2.5 Million</td>\n",
       "    </tr>\n",
       "    <tr>\n",
       "      <th>17</th>\n",
       "      <td>Pininfarina Battista</td>\n",
       "      <td>Price: $2.5 Million</td>\n",
       "    </tr>\n",
       "    <tr>\n",
       "      <th>18</th>\n",
       "      <td>Gordon Murray T.50</td>\n",
       "      <td>Price: $2.6 Million</td>\n",
       "    </tr>\n",
       "    <tr>\n",
       "      <th>19</th>\n",
       "      <td>Lamborghini Countach</td>\n",
       "      <td>Price: $2.6 Million</td>\n",
       "    </tr>\n",
       "    <tr>\n",
       "      <th>20</th>\n",
       "      <td>Hennessey Venom F5 Revolution</td>\n",
       "      <td>$2.7 Million</td>\n",
       "    </tr>\n",
       "    <tr>\n",
       "      <th>21</th>\n",
       "      <td>Mercedes-AMG Project One</td>\n",
       "      <td>Price: $2.7 Million</td>\n",
       "    </tr>\n",
       "    <tr>\n",
       "      <th>22</th>\n",
       "      <td>Zenvo Aurora</td>\n",
       "      <td>Price: $2.8 Million</td>\n",
       "    </tr>\n",
       "    <tr>\n",
       "      <th>23</th>\n",
       "      <td>Aston Martin Victor</td>\n",
       "      <td>Price: $3.0 Million</td>\n",
       "    </tr>\n",
       "    <tr>\n",
       "      <th>24</th>\n",
       "      <td>Hennessey Venom F5 Roadster</td>\n",
       "      <td>$3.0 Million</td>\n",
       "    </tr>\n",
       "    <tr>\n",
       "      <th>25</th>\n",
       "      <td>Koenigsegg Jesko</td>\n",
       "      <td>Price: $3.0 Million</td>\n",
       "    </tr>\n",
       "    <tr>\n",
       "      <th>26</th>\n",
       "      <td>Aspark Owl</td>\n",
       "      <td>$3.1 Million</td>\n",
       "    </tr>\n",
       "    <tr>\n",
       "      <th>27</th>\n",
       "      <td>Aston Martin Valkyrie</td>\n",
       "      <td>Price: $3.2 Million</td>\n",
       "    </tr>\n",
       "    <tr>\n",
       "      <th>28</th>\n",
       "      <td>W Motors Lykan Hypersport</td>\n",
       "      <td>Price: $3.4 Million</td>\n",
       "    </tr>\n",
       "    <tr>\n",
       "      <th>29</th>\n",
       "      <td>McLaren Solus</td>\n",
       "      <td>$3.5 Million</td>\n",
       "    </tr>\n",
       "    <tr>\n",
       "      <th>30</th>\n",
       "      <td>Pagani Huayra Evo R</td>\n",
       "      <td>$3.5 Million (est.)</td>\n",
       "    </tr>\n",
       "    <tr>\n",
       "      <th>31</th>\n",
       "      <td>Lamborghini Sian</td>\n",
       "      <td>Price: $3.6 million</td>\n",
       "    </tr>\n",
       "    <tr>\n",
       "      <th>32</th>\n",
       "      <td>Koenigsegg CC850</td>\n",
       "      <td>Price: $3.7 Million</td>\n",
       "    </tr>\n",
       "    <tr>\n",
       "      <th>33</th>\n",
       "      <td>Bugatti Chiron Super Sport 300+</td>\n",
       "      <td>Price: $3.9 Million</td>\n",
       "    </tr>\n",
       "    <tr>\n",
       "      <th>34</th>\n",
       "      <td>Gordon Murray Automotive T.50s Niki Lauda</td>\n",
       "      <td>$3.9 Million</td>\n",
       "    </tr>\n",
       "    <tr>\n",
       "      <th>35</th>\n",
       "      <td>Pagani Huayra Roadster BC</td>\n",
       "      <td>$4.0 Million</td>\n",
       "    </tr>\n",
       "    <tr>\n",
       "      <th>36</th>\n",
       "      <td>Lamborghini Veneno</td>\n",
       "      <td>Price: $4.5 Million</td>\n",
       "    </tr>\n",
       "    <tr>\n",
       "      <th>37</th>\n",
       "      <td>Bugatti Bolide</td>\n",
       "      <td>Price: $4.7 Million</td>\n",
       "    </tr>\n",
       "    <tr>\n",
       "      <th>38</th>\n",
       "      <td>Pininfarina B95 Speedster</td>\n",
       "      <td>Price: $4.8 Million</td>\n",
       "    </tr>\n",
       "    <tr>\n",
       "      <th>39</th>\n",
       "      <td>Bugatti Mistral</td>\n",
       "      <td>Price: $5.0 Million</td>\n",
       "    </tr>\n",
       "    <tr>\n",
       "      <th>40</th>\n",
       "      <td>Bugatti Divo</td>\n",
       "      <td>Price: $5.8 Million</td>\n",
       "    </tr>\n",
       "    <tr>\n",
       "      <th>41</th>\n",
       "      <td>Pagani Huayra Imola</td>\n",
       "      <td>$6.0 Million</td>\n",
       "    </tr>\n",
       "    <tr>\n",
       "      <th>42</th>\n",
       "      <td>Pagani Codalunga</td>\n",
       "      <td>Price: $7.4 Million</td>\n",
       "    </tr>\n",
       "    <tr>\n",
       "      <th>43</th>\n",
       "      <td>Mercedes-Maybach Exelero</td>\n",
       "      <td>Price: $8.0 Million</td>\n",
       "    </tr>\n",
       "    <tr>\n",
       "      <th>44</th>\n",
       "      <td>Bugatti Centodieci</td>\n",
       "      <td>Price: $9.0 Million</td>\n",
       "    </tr>\n",
       "    <tr>\n",
       "      <th>45</th>\n",
       "      <td>Bugatti Chiron Profilée</td>\n",
       "      <td>Price: $10.8 Million</td>\n",
       "    </tr>\n",
       "    <tr>\n",
       "      <th>46</th>\n",
       "      <td>Rolls-Royce Sweptail</td>\n",
       "      <td>Price: $12.8 Million</td>\n",
       "    </tr>\n",
       "    <tr>\n",
       "      <th>47</th>\n",
       "      <td>Bugatti La Voiture Noire</td>\n",
       "      <td>Price: $13.4 Million</td>\n",
       "    </tr>\n",
       "    <tr>\n",
       "      <th>48</th>\n",
       "      <td>Rolls-Royce Boat Tail</td>\n",
       "      <td>Price: $28.0 Million (est.)</td>\n",
       "    </tr>\n",
       "    <tr>\n",
       "      <th>49</th>\n",
       "      <td>Rolls-Royce La Rose Noire Droptail</td>\n",
       "      <td>Price: $30 Million (est.)</td>\n",
       "    </tr>\n",
       "  </tbody>\n",
       "</table>\n",
       "</div>"
      ],
      "text/plain": [
       "                                         Name                        Price\n",
       "0                           McLaren Senna GTR                 $1.7 Million\n",
       "1                                 Czinger 21C          Price: $1.7 Million\n",
       "2                               Ferrari Monza          Price: $1.7 Million\n",
       "3                          Gordon Murray T.33          Price: $1.7 Million\n",
       "4                           Koenigsegg Gemera          Price: $1.7 Million\n",
       "5                          Hennessey Venom F5          Price: $1.8 Million\n",
       "6                             Bentley Bacalar          Price: $1.9 Million\n",
       "7               Hispano Suiza Carmen Boulogne          Price: $1.9 Million\n",
       "8                      Bentley Mulliner Batur          Price: $2.0 Million\n",
       "9                                 SSC Tuatara          Price: $2.0 Million\n",
       "10                                Lotus Evija          Price: $2.1 Million\n",
       "11                        Aston Martin Vulcan          Price: $2.3 Million\n",
       "12                                 Delage D12          Price: $2.3 Million\n",
       "13                        Ferrari Daytona SP3          Price: $2.3 Million\n",
       "14                          McLaren Speedtail          Price: $2.3 Million\n",
       "15                               Rimac Nevera          Price: $2.4 Million\n",
       "16                              Pagani Utopia          Price: $2.5 Million\n",
       "17                       Pininfarina Battista          Price: $2.5 Million\n",
       "18                         Gordon Murray T.50          Price: $2.6 Million\n",
       "19                       Lamborghini Countach          Price: $2.6 Million\n",
       "20              Hennessey Venom F5 Revolution                 $2.7 Million\n",
       "21                   Mercedes-AMG Project One          Price: $2.7 Million\n",
       "22                               Zenvo Aurora          Price: $2.8 Million\n",
       "23                        Aston Martin Victor          Price: $3.0 Million\n",
       "24                Hennessey Venom F5 Roadster                 $3.0 Million\n",
       "25                           Koenigsegg Jesko          Price: $3.0 Million\n",
       "26                                 Aspark Owl                 $3.1 Million\n",
       "27                      Aston Martin Valkyrie          Price: $3.2 Million\n",
       "28                  W Motors Lykan Hypersport          Price: $3.4 Million\n",
       "29                              McLaren Solus                 $3.5 Million\n",
       "30                        Pagani Huayra Evo R          $3.5 Million (est.)\n",
       "31                           Lamborghini Sian          Price: $3.6 million\n",
       "32                           Koenigsegg CC850          Price: $3.7 Million\n",
       "33            Bugatti Chiron Super Sport 300+          Price: $3.9 Million\n",
       "34  Gordon Murray Automotive T.50s Niki Lauda                 $3.9 Million\n",
       "35                  Pagani Huayra Roadster BC                 $4.0 Million\n",
       "36                         Lamborghini Veneno          Price: $4.5 Million\n",
       "37                             Bugatti Bolide          Price: $4.7 Million\n",
       "38                  Pininfarina B95 Speedster          Price: $4.8 Million\n",
       "39                            Bugatti Mistral          Price: $5.0 Million\n",
       "40                               Bugatti Divo          Price: $5.8 Million\n",
       "41                        Pagani Huayra Imola                 $6.0 Million\n",
       "42                           Pagani Codalunga          Price: $7.4 Million\n",
       "43                   Mercedes-Maybach Exelero          Price: $8.0 Million\n",
       "44                         Bugatti Centodieci          Price: $9.0 Million\n",
       "45                    Bugatti Chiron Profilée         Price: $10.8 Million\n",
       "46                       Rolls-Royce Sweptail         Price: $12.8 Million\n",
       "47                   Bugatti La Voiture Noire         Price: $13.4 Million\n",
       "48                      Rolls-Royce Boat Tail  Price: $28.0 Million (est.)\n",
       "49         Rolls-Royce La Rose Noire Droptail    Price: $30 Million (est.)"
      ]
     },
     "execution_count": 491,
     "metadata": {},
     "output_type": "execute_result"
    }
   ],
   "source": [
    "import pandas as pd\n",
    "df = pd.DataFrame({'Name':car_name, 'Price':car_price}) \n",
    "df "
   ]
  },
  {
   "cell_type": "code",
   "execution_count": null,
   "id": "0d63ac5b-e23c-480b-ac86-a58e29e92013",
   "metadata": {},
   "outputs": [],
   "source": [
    "#QUESTION - 5"
   ]
  },
  {
   "cell_type": "code",
   "execution_count": null,
   "id": "91bc8f28-6f97-4c68-ae4f-b8a7deb3a774",
   "metadata": {},
   "outputs": [],
   "source": [
    "# list of prime ministers of india"
   ]
  },
  {
   "cell_type": "code",
   "execution_count": 584,
   "id": "4090ec2c-df72-4099-a7e0-6d1f1016e173",
   "metadata": {},
   "outputs": [
    {
     "name": "stdout",
     "output_type": "stream",
     "text": [
      "                       Name      Term of Office          Duration\n",
      "0          Jawaharlal Nehru  57 years, 274 days     15 August1947\n",
      "1          Gulzarilal Nanda  65 years, 328 days       27 May 1964\n",
      "2       Lal Bahadur Shastri  62 years, 250 days       9 June 1964\n",
      "3          Gulzarilal Nanda  67 years, 191 days   11 January 1966\n",
      "4             Indira Gandhi   48 years, 66 days   24 January 1966\n",
      "5             Morarji Desai   81 years, 24 days     24 March 1977\n",
      "6              Charan Singh  76 years, 217 days      28 July 1979\n",
      "7             Indira Gandhi   62 years, 56 days   14 January 1980\n",
      "8              Rajiv Gandhi   40 years, 72 days   31 October 1984\n",
      "9   Vishwanath Pratap Singh  58 years, 160 days   2 December 1989\n",
      "10          Chandra Shekhar  63 years, 207 days  10 November 1990\n",
      "11      P. V. Narasimha Rao  69 years, 358 days      21 June 1991\n",
      "12     Atal Bihari Vajpayee  71 years, 143 days       16 May 1996\n",
      "13         H. D. Deve Gowda   63 years, 14 days       1 June 1996\n",
      "14       Inder Kumar Gujral  77 years, 138 days     21 April 1997\n",
      "15     Atal Bihari Vajpayee   73 years, 84 days     19 March 1998\n",
      "16           Manmohan Singh  71 years, 239 days       22 May 2004\n",
      "17            Narendra Modi  63 years, 251 days       26 May 2014\n"
     ]
    }
   ],
   "source": [
    "from selenium import webdriver\n",
    "from selenium.webdriver.common.by import By\n",
    "import pandas as pd\n",
    "import time\n",
    "\n",
    "# Step 1: Initialize the Chrome driver\n",
    "driver = webdriver.Chrome()\n",
    "\n",
    "# Step 2: Open the webpage\n",
    "driver.get(\"https://www.jagranjosh.com/general-knowledge/list-ofall-prime-ministers-of-india-1473165149-1\")\n",
    "\n",
    "# Step 3: Wait for the page to load completely\n",
    "time.sleep(5)\n",
    "\n",
    "# Step 4: Scrape the table data\n",
    "names = []\n",
    "terms_of_office = []\n",
    "durations = []\n",
    "\n",
    "# Locate the table rows that contain the data\n",
    "rows = driver.find_elements(By.XPATH, \"//table/tbody/tr\")\n",
    "\n",
    "# Loop through each row and extract the data\n",
    "for row in rows[1:]:  # Skip the header row\n",
    "    cols = row.find_elements(By.TAG_NAME, \"td\")\n",
    "    \n",
    "    if len(cols) >= 3:  # Ensure that the row has enough columns\n",
    "        name = cols[1].text.strip()\n",
    "        term_of_office = cols[2].text.strip()\n",
    "        duration = cols[3].text.strip()\n",
    "        \n",
    "        names.append(name)\n",
    "        terms_of_office.append(term_of_office)\n",
    "        durations.append(duration)\n",
    "\n",
    "# Step 5: Create a DataFrame with the extracted data\n",
    "data = {\n",
    "    'Name': names,\n",
    "    'Term of Office': terms_of_office,\n",
    "    'Duration': durations\n",
    "}\n",
    "\n",
    "df = pd.DataFrame(data)\n",
    "\n",
    "# Step 6: Display the DataFrame\n",
    "print(df)\n"
   ]
  },
  {
   "cell_type": "code",
   "execution_count": null,
   "id": "1507cb68-6a1d-4ea3-8e85-1231733983ac",
   "metadata": {},
   "outputs": [],
   "source": [
    "# QUESTION - 6 "
   ]
  },
  {
   "cell_type": "code",
   "execution_count": null,
   "id": "8866865c-8e78-4adb-9713-dabb5228436a",
   "metadata": {},
   "outputs": [],
   "source": [
    "# shine.com"
   ]
  },
  {
   "cell_type": "code",
   "execution_count": 730,
   "id": "2e57e122-7b11-4896-949f-465b3625f752",
   "metadata": {},
   "outputs": [],
   "source": [
    "driver = webdriver.Chrome() "
   ]
  },
  {
   "cell_type": "code",
   "execution_count": 732,
   "id": "55fe5279-563e-49cb-bf99-07ac08f84f13",
   "metadata": {},
   "outputs": [],
   "source": [
    "driver.get(\"https://www.shine.com/\") "
   ]
  },
  {
   "cell_type": "code",
   "execution_count": 734,
   "id": "e2278ef5-04aa-454b-aaeb-88f6c3fc145d",
   "metadata": {},
   "outputs": [],
   "source": [
    "search_button = driver.find_element(By.CLASS_NAME, \"iconH-zoom-white\")\n",
    "search_button.click() "
   ]
  },
  {
   "cell_type": "code",
   "execution_count": 736,
   "id": "f7c991a2-6282-4e59-9812-24720cd72298",
   "metadata": {},
   "outputs": [],
   "source": [
    "designation_field = driver.find_element(By.ID, \"id_q\")\n",
    "designation_field.send_keys('Data Analyst') "
   ]
  },
  {
   "cell_type": "code",
   "execution_count": 738,
   "id": "f0966ca5-ac50-4d9e-8e53-2e4415d3a777",
   "metadata": {},
   "outputs": [],
   "source": [
    "location_field = driver.find_element(By.ID, \"id_loc\")\n",
    "location_field.send_keys('Bangalore') "
   ]
  },
  {
   "cell_type": "code",
   "execution_count": 740,
   "id": "6891920d-c5ff-45cf-8967-5090bf2f79ab",
   "metadata": {},
   "outputs": [],
   "source": [
    "experience_field = driver.find_element(By.ID, \"id_exp\")\n",
    "experience_field.send_keys('0 Yrs')  "
   ]
  },
  {
   "cell_type": "code",
   "execution_count": 744,
   "id": "c1d94c9f-c293-4d0b-8461-76a864540ae6",
   "metadata": {},
   "outputs": [],
   "source": [
    "search_btn = driver.find_element(By.CLASS_NAME, \"searchForm_btnWrap_advance__VYBHN\")\n",
    "search_btn.click() "
   ]
  },
  {
   "cell_type": "code",
   "execution_count": 746,
   "id": "6ce3283a-1679-4db9-b68a-d8775ab1272f",
   "metadata": {},
   "outputs": [],
   "source": [
    "job_title1 = []\n",
    "job_location1 = []\n",
    "company_name1 = []\n",
    "experience_required1 = [] "
   ]
  },
  {
   "cell_type": "code",
   "execution_count": 748,
   "id": "0f76af4c-6419-4a4a-af40-50b3846a8f42",
   "metadata": {},
   "outputs": [],
   "source": [
    "title_tags1 = driver.find_elements(By.XPATH, '//strong[@class=\"jobCard_pReplaceH2__xWmHg\"]')\n",
    "location_tags1 = driver.find_elements(By.XPATH, '//div[@class=\"jobCard_jobCard_lists_item__YxRkV jobCard_locationIcon__zrWt2\"]')\n",
    "company_tags1 = driver.find_elements(By.XPATH, '//div[@class=\"jobCard_jobCard_cName__mYnow\"]')\n",
    "experience_tags1 = driver.find_elements(By.XPATH, '//div[@class=\" jobCard_jobCard_lists_item__YxRkV jobCard_jobIcon__3FB1t\"]') "
   ]
  },
  {
   "cell_type": "code",
   "execution_count": 750,
   "id": "dc031390-74c0-44d9-89e4-07d4cc94e1dd",
   "metadata": {},
   "outputs": [],
   "source": [
    "title_tags1 = title_tags1[:10]\n",
    "location_tags1 = location_tags1[:10]\n",
    "company_tags1 = company_tags1[:10]\n",
    "experience_tags1 = experience_tags1[:10] "
   ]
  },
  {
   "cell_type": "code",
   "execution_count": 752,
   "id": "a031f85b-f03d-419e-aa28-7b2c38ed792a",
   "metadata": {},
   "outputs": [],
   "source": [
    "for i in title_tags1:\n",
    "    title = i.text\n",
    "    job_title1.append(title)\n",
    "\n",
    "for i in location_tags1:\n",
    "    location = i.text\n",
    "    job_location1.append(location)\n",
    "\n",
    "for i in company_tags1:\n",
    "    company = i.text\n",
    "    company_name1.append(company)\n",
    "\n",
    "for i in experience_tags1:\n",
    "    exp = i.text\n",
    "    experience_required1.append(exp) "
   ]
  },
  {
   "cell_type": "code",
   "execution_count": 754,
   "id": "354f82f2-d006-4a99-a421-c4a09504327b",
   "metadata": {},
   "outputs": [
    {
     "name": "stdout",
     "output_type": "stream",
     "text": [
      "10 10 10 10\n"
     ]
    }
   ],
   "source": [
    "print(len(job_title1), len(job_location1), len(company_name1), len(experience_required1)) "
   ]
  },
  {
   "cell_type": "code",
   "execution_count": 756,
   "id": "5718c6f3-d19c-415e-8f1b-e00701c85399",
   "metadata": {},
   "outputs": [
    {
     "data": {
      "text/html": [
       "<div>\n",
       "<style scoped>\n",
       "    .dataframe tbody tr th:only-of-type {\n",
       "        vertical-align: middle;\n",
       "    }\n",
       "\n",
       "    .dataframe tbody tr th {\n",
       "        vertical-align: top;\n",
       "    }\n",
       "\n",
       "    .dataframe thead th {\n",
       "        text-align: right;\n",
       "    }\n",
       "</style>\n",
       "<table border=\"1\" class=\"dataframe\">\n",
       "  <thead>\n",
       "    <tr style=\"text-align: right;\">\n",
       "      <th></th>\n",
       "      <th>Title</th>\n",
       "      <th>Location</th>\n",
       "      <th>Company_name</th>\n",
       "      <th>Experience</th>\n",
       "    </tr>\n",
       "  </thead>\n",
       "  <tbody>\n",
       "    <tr>\n",
       "      <th>0</th>\n",
       "      <td>Data Analyst , Senior Data Analyst , Data Anal...</td>\n",
       "      <td>Bangalore\\n+8</td>\n",
       "      <td>appsoft solutions</td>\n",
       "      <td>0 to 4 Yrs</td>\n",
       "    </tr>\n",
       "    <tr>\n",
       "      <th>1</th>\n",
       "      <td>Data Analyst</td>\n",
       "      <td>Bangalore\\n+4</td>\n",
       "      <td>aryan technology</td>\n",
       "      <td>0 to 4 Yrs</td>\n",
       "    </tr>\n",
       "    <tr>\n",
       "      <th>2</th>\n",
       "      <td>Risk Data Analyst (Senior Quantitative Analyst)</td>\n",
       "      <td>Bangalore\\n+1</td>\n",
       "      <td>locus enterprises</td>\n",
       "      <td>4 to 9 Yrs</td>\n",
       "    </tr>\n",
       "    <tr>\n",
       "      <th>3</th>\n",
       "      <td>Healthcare Data Analyst</td>\n",
       "      <td>Bangalore\\n+8</td>\n",
       "      <td>spento papers (india) llp</td>\n",
       "      <td>8 to 13 Yrs</td>\n",
       "    </tr>\n",
       "    <tr>\n",
       "      <th>4</th>\n",
       "      <td>Senior Data Analyst</td>\n",
       "      <td>Bangalore\\n+8</td>\n",
       "      <td>gallagher and mohan private limited</td>\n",
       "      <td>2 to 7 Yrs</td>\n",
       "    </tr>\n",
       "    <tr>\n",
       "      <th>5</th>\n",
       "      <td>Urgent Hiring For Data Analyst</td>\n",
       "      <td>Bangalore\\n+2</td>\n",
       "      <td>diraa hr services hiring for diraa ...</td>\n",
       "      <td>0 to 4 Yrs</td>\n",
       "    </tr>\n",
       "    <tr>\n",
       "      <th>6</th>\n",
       "      <td>Data Catalog with Data Goverance</td>\n",
       "      <td>Bangalore\\n+8</td>\n",
       "      <td>ltimindtree limited</td>\n",
       "      <td>6 to 11 Yrs</td>\n",
       "    </tr>\n",
       "    <tr>\n",
       "      <th>7</th>\n",
       "      <td>Data Governance Analyst</td>\n",
       "      <td>Bangalore</td>\n",
       "      <td>white horse manpower consultancy (p...</td>\n",
       "      <td>5 to 8 Yrs</td>\n",
       "    </tr>\n",
       "    <tr>\n",
       "      <th>8</th>\n",
       "      <td>Healthcare Analyst</td>\n",
       "      <td>Bangalore\\n+7</td>\n",
       "      <td>techno endura</td>\n",
       "      <td>0 to 4 Yrs</td>\n",
       "    </tr>\n",
       "    <tr>\n",
       "      <th>9</th>\n",
       "      <td>Business Analyst</td>\n",
       "      <td>Bangalore</td>\n",
       "      <td>spurtree technologies private limit...</td>\n",
       "      <td>5 to 10 Yrs</td>\n",
       "    </tr>\n",
       "  </tbody>\n",
       "</table>\n",
       "</div>"
      ],
      "text/plain": [
       "                                               Title       Location  \\\n",
       "0  Data Analyst , Senior Data Analyst , Data Anal...  Bangalore\\n+8   \n",
       "1                                       Data Analyst  Bangalore\\n+4   \n",
       "2    Risk Data Analyst (Senior Quantitative Analyst)  Bangalore\\n+1   \n",
       "3                            Healthcare Data Analyst  Bangalore\\n+8   \n",
       "4                                Senior Data Analyst  Bangalore\\n+8   \n",
       "5                     Urgent Hiring For Data Analyst  Bangalore\\n+2   \n",
       "6                   Data Catalog with Data Goverance  Bangalore\\n+8   \n",
       "7                            Data Governance Analyst      Bangalore   \n",
       "8                                 Healthcare Analyst  Bangalore\\n+7   \n",
       "9                                   Business Analyst      Bangalore   \n",
       "\n",
       "                             Company_name   Experience  \n",
       "0                       appsoft solutions   0 to 4 Yrs  \n",
       "1                        aryan technology   0 to 4 Yrs  \n",
       "2                       locus enterprises   4 to 9 Yrs  \n",
       "3               spento papers (india) llp  8 to 13 Yrs  \n",
       "4     gallagher and mohan private limited   2 to 7 Yrs  \n",
       "5  diraa hr services hiring for diraa ...   0 to 4 Yrs  \n",
       "6                     ltimindtree limited  6 to 11 Yrs  \n",
       "7  white horse manpower consultancy (p...   5 to 8 Yrs  \n",
       "8                           techno endura   0 to 4 Yrs  \n",
       "9  spurtree technologies private limit...  5 to 10 Yrs  "
      ]
     },
     "execution_count": 756,
     "metadata": {},
     "output_type": "execute_result"
    }
   ],
   "source": [
    "import pandas as pd\n",
    "df = pd.DataFrame({'Title':job_title1, 'Location':job_location1, 'Company_name':company_name1, 'Experience':experience_required1})\n",
    "df "
   ]
  },
  {
   "cell_type": "code",
   "execution_count": null,
   "id": "49acb393-370a-49e1-8b8a-0a9dc445c70e",
   "metadata": {},
   "outputs": [],
   "source": [
    "# QUESTION - 7"
   ]
  },
  {
   "cell_type": "code",
   "execution_count": null,
   "id": "22b39101-5dbb-4686-9364-64ced3176c4b",
   "metadata": {},
   "outputs": [],
   "source": [
    "# iphone reviews "
   ]
  },
  {
   "cell_type": "code",
   "execution_count": 768,
   "id": "9d5578f4-641b-4fdf-9c96-0a3addbee1ad",
   "metadata": {},
   "outputs": [],
   "source": [
    "driver = webdriver.Chrome() "
   ]
  },
  {
   "cell_type": "code",
   "execution_count": 770,
   "id": "e3ceee1f-d30c-4d7d-a22f-51615ed6f494",
   "metadata": {},
   "outputs": [],
   "source": [
    "driver.get(\"https://www.flipkart.com/apple-iphone-11-black-64-gb/product-reviews/itm4e5041ba101fd?pid=MOBFWQ6BXGJCEYNY&lid=LSTMOBFWQ6BXGJCEYNYZXSHRJ&marketplace=FLIPKART\")\n"
   ]
  },
  {
   "cell_type": "code",
   "execution_count": 772,
   "id": "b328e139-acbf-43f8-ad84-44cede8d1682",
   "metadata": {},
   "outputs": [],
   "source": [
    "rating_list = []\n",
    "review_list = []\n",
    "full_review_list = [] "
   ]
  },
  {
   "cell_type": "code",
   "execution_count": 774,
   "id": "223b8042-a68d-461c-a0d9-77dc2d79a2f2",
   "metadata": {},
   "outputs": [
    {
     "name": "stdout",
     "output_type": "stream",
     "text": [
      "100 100 100\n"
     ]
    }
   ],
   "source": [
    "start = 0\n",
    "end = 10\n",
    "for page in range(start,end):\n",
    "    rating = driver.find_elements(By.XPATH, '//div[@class=\"XQDdHH Ga3i8K\"]')\n",
    "    for i in rating:\n",
    "        rating_list.append(i.text)\n",
    "    review_summary = driver.find_elements(By.XPATH, '//p[@class=\"z9E0IG\"]')\n",
    "    for i in review_summary:\n",
    "        review_list.append(i.text)\n",
    "    full_review = driver.find_elements(By.XPATH, '//div[@class=\"ZmyHeo\"]') \n",
    "    for i in full_review:\n",
    "        full_review_list.append(i.text) \n",
    "print(len(rating_list), len(review_list), len(full_review_list))  "
   ]
  },
  {
   "cell_type": "code",
   "execution_count": 776,
   "id": "937f9a2d-6c7f-483b-b613-06032c6feda8",
   "metadata": {},
   "outputs": [
    {
     "data": {
      "text/html": [
       "<div>\n",
       "<style scoped>\n",
       "    .dataframe tbody tr th:only-of-type {\n",
       "        vertical-align: middle;\n",
       "    }\n",
       "\n",
       "    .dataframe tbody tr th {\n",
       "        vertical-align: top;\n",
       "    }\n",
       "\n",
       "    .dataframe thead th {\n",
       "        text-align: right;\n",
       "    }\n",
       "</style>\n",
       "<table border=\"1\" class=\"dataframe\">\n",
       "  <thead>\n",
       "    <tr style=\"text-align: right;\">\n",
       "      <th></th>\n",
       "      <th>Rating</th>\n",
       "      <th>Review Summary</th>\n",
       "      <th>Full Review</th>\n",
       "    </tr>\n",
       "  </thead>\n",
       "  <tbody>\n",
       "    <tr>\n",
       "      <th>0</th>\n",
       "      <td>5</td>\n",
       "      <td>Best in the market!</td>\n",
       "      <td>Good Camera</td>\n",
       "    </tr>\n",
       "    <tr>\n",
       "      <th>1</th>\n",
       "      <td>5</td>\n",
       "      <td>Terrific</td>\n",
       "      <td>Very very good</td>\n",
       "    </tr>\n",
       "    <tr>\n",
       "      <th>2</th>\n",
       "      <td>5</td>\n",
       "      <td>Classy product</td>\n",
       "      <td>Camera is awesome\\nBest battery backup\\nA perf...</td>\n",
       "    </tr>\n",
       "    <tr>\n",
       "      <th>3</th>\n",
       "      <td>5</td>\n",
       "      <td>Worth every penny</td>\n",
       "      <td>Feeling awesome after getting the delivery of ...</td>\n",
       "    </tr>\n",
       "    <tr>\n",
       "      <th>4</th>\n",
       "      <td>5</td>\n",
       "      <td>Perfect product!</td>\n",
       "      <td>Photos super</td>\n",
       "    </tr>\n",
       "    <tr>\n",
       "      <th>...</th>\n",
       "      <td>...</td>\n",
       "      <td>...</td>\n",
       "      <td>...</td>\n",
       "    </tr>\n",
       "    <tr>\n",
       "      <th>95</th>\n",
       "      <td>5</td>\n",
       "      <td>Terrific purchase</td>\n",
       "      <td>Value for money 😍</td>\n",
       "    </tr>\n",
       "    <tr>\n",
       "      <th>96</th>\n",
       "      <td>5</td>\n",
       "      <td>Wonderful</td>\n",
       "      <td>This is amazing at all</td>\n",
       "    </tr>\n",
       "    <tr>\n",
       "      <th>97</th>\n",
       "      <td>5</td>\n",
       "      <td>Excellent</td>\n",
       "      <td>NYC</td>\n",
       "    </tr>\n",
       "    <tr>\n",
       "      <th>98</th>\n",
       "      <td>5</td>\n",
       "      <td>Brilliant</td>\n",
       "      <td>very good camera quality</td>\n",
       "    </tr>\n",
       "    <tr>\n",
       "      <th>99</th>\n",
       "      <td>5</td>\n",
       "      <td>Perfect product!</td>\n",
       "      <td>V Good all</td>\n",
       "    </tr>\n",
       "  </tbody>\n",
       "</table>\n",
       "<p>100 rows × 3 columns</p>\n",
       "</div>"
      ],
      "text/plain": [
       "   Rating       Review Summary  \\\n",
       "0       5  Best in the market!   \n",
       "1       5             Terrific   \n",
       "2       5       Classy product   \n",
       "3       5    Worth every penny   \n",
       "4       5     Perfect product!   \n",
       "..    ...                  ...   \n",
       "95      5    Terrific purchase   \n",
       "96      5            Wonderful   \n",
       "97      5            Excellent   \n",
       "98      5            Brilliant   \n",
       "99      5     Perfect product!   \n",
       "\n",
       "                                          Full Review  \n",
       "0                                         Good Camera  \n",
       "1                                      Very very good  \n",
       "2   Camera is awesome\\nBest battery backup\\nA perf...  \n",
       "3   Feeling awesome after getting the delivery of ...  \n",
       "4                                        Photos super  \n",
       "..                                                ...  \n",
       "95                                  Value for money 😍  \n",
       "96                             This is amazing at all  \n",
       "97                                                NYC  \n",
       "98                           very good camera quality  \n",
       "99                                         V Good all  \n",
       "\n",
       "[100 rows x 3 columns]"
      ]
     },
     "execution_count": 776,
     "metadata": {},
     "output_type": "execute_result"
    }
   ],
   "source": [
    "import pandas as pd\n",
    "df = pd.DataFrame({'Rating':rating_list, 'Review Summary':review_list, 'Full Review':full_review_list})\n",
    "df "
   ]
  },
  {
   "cell_type": "code",
   "execution_count": null,
   "id": "b51a93f6-4a16-44d6-bf39-cf7bad07db8e",
   "metadata": {},
   "outputs": [],
   "source": [
    "# QUESTION - 8"
   ]
  },
  {
   "cell_type": "code",
   "execution_count": null,
   "id": "a65a86c2-8a7f-4547-98e4-a7971df25b2b",
   "metadata": {},
   "outputs": [],
   "source": [
    "# sneakers scraping"
   ]
  },
  {
   "cell_type": "code",
   "execution_count": 790,
   "id": "ac7a0381-5f8c-40c9-a58e-8e333f77360e",
   "metadata": {},
   "outputs": [],
   "source": [
    "driver = webdriver.Chrome() "
   ]
  },
  {
   "cell_type": "code",
   "execution_count": 792,
   "id": "45657f8e-73dd-4685-aed3-16322c189a6b",
   "metadata": {},
   "outputs": [],
   "source": [
    "driver.get(\"https://www.flipkart.com/\") "
   ]
  },
  {
   "cell_type": "code",
   "execution_count": 794,
   "id": "12afc478-ed0b-44df-aa7e-f401ccc5e524",
   "metadata": {},
   "outputs": [],
   "source": [
    "search_field = driver.find_element(By.CLASS_NAME, \"Pke_EE\")\n",
    "search_field.send_keys('Sneakers') "
   ]
  },
  {
   "cell_type": "code",
   "execution_count": 796,
   "id": "0f83fba7-018f-4d0d-8767-3db6283eefbd",
   "metadata": {},
   "outputs": [],
   "source": [
    "search_button = driver.find_element(By.CLASS_NAME, \"_2iLD__\")\n",
    "search_button.click() "
   ]
  },
  {
   "cell_type": "code",
   "execution_count": 798,
   "id": "421ac91a-ad21-4d98-9858-84f0cb24affc",
   "metadata": {},
   "outputs": [],
   "source": [
    "brand_list = []\n",
    "product_description_list = []\n",
    "price_list = [] "
   ]
  },
  {
   "cell_type": "code",
   "execution_count": 808,
   "id": "7af350b5-bc28-4fc1-aaee-c4a3dc7d7716",
   "metadata": {},
   "outputs": [
    {
     "name": "stdout",
     "output_type": "stream",
     "text": [
      "100 100 100\n"
     ]
    }
   ],
   "source": [
    "start = 0\n",
    "end = 3\n",
    "for page in range(start, end):\n",
    "    \n",
    "    brand = driver.find_elements(By.XPATH, '//div[@class=\"syl9yP\"]') \n",
    "    for i in brand:\n",
    "        brand_list.append(i.text)\n",
    "\n",
    "    product_description = driver.find_elements(By.XPATH, '//a[@class=\"WKTcLC\"]')\n",
    "    for i in product_description:\n",
    "        product_description_list.append(i.text)\n",
    "\n",
    "    price = driver.find_elements(By.XPATH, '//div[@class=\"Nx9bqj\"]')\n",
    "    for i in price:\n",
    "        price_list.append(i.text)\n",
    "\n",
    "brand_list = brand_list[:100]\n",
    "product_description_list = product_description_list[:100]\n",
    "price_list = price_list[:100] \n",
    "print(len(brand_list), len(product_description_list), len(price_list)) "
   ]
  },
  {
   "cell_type": "code",
   "execution_count": 810,
   "id": "cb3e0f5f-7d1b-44ed-b7de-179985d90978",
   "metadata": {},
   "outputs": [
    {
     "data": {
      "text/html": [
       "<div>\n",
       "<style scoped>\n",
       "    .dataframe tbody tr th:only-of-type {\n",
       "        vertical-align: middle;\n",
       "    }\n",
       "\n",
       "    .dataframe tbody tr th {\n",
       "        vertical-align: top;\n",
       "    }\n",
       "\n",
       "    .dataframe thead th {\n",
       "        text-align: right;\n",
       "    }\n",
       "</style>\n",
       "<table border=\"1\" class=\"dataframe\">\n",
       "  <thead>\n",
       "    <tr style=\"text-align: right;\">\n",
       "      <th></th>\n",
       "      <th>Brand</th>\n",
       "      <th>Product Description</th>\n",
       "      <th>Price</th>\n",
       "    </tr>\n",
       "  </thead>\n",
       "  <tbody>\n",
       "    <tr>\n",
       "      <th>0</th>\n",
       "      <td>aadi</td>\n",
       "      <td>Stylish &amp; Trending Outdoor Walking Comfortable...</td>\n",
       "      <td>₹299</td>\n",
       "    </tr>\n",
       "    <tr>\n",
       "      <th>1</th>\n",
       "      <td>URBANBOX</td>\n",
       "      <td>PUMA UP Sneakers For Men</td>\n",
       "      <td>₹299</td>\n",
       "    </tr>\n",
       "    <tr>\n",
       "      <th>2</th>\n",
       "      <td>PUMA</td>\n",
       "      <td>OG-D3 Sneakers For Men</td>\n",
       "      <td>₹1,800</td>\n",
       "    </tr>\n",
       "    <tr>\n",
       "      <th>3</th>\n",
       "      <td>CAMPUS</td>\n",
       "      <td>Sneaker Casual Shoes For Men | Soft Cushion In...</td>\n",
       "      <td>₹502</td>\n",
       "    </tr>\n",
       "    <tr>\n",
       "      <th>4</th>\n",
       "      <td>aadi</td>\n",
       "      <td>Sneaker Casual Shoes For Men | Soft Cushion In...</td>\n",
       "      <td>₹360</td>\n",
       "    </tr>\n",
       "    <tr>\n",
       "      <th>...</th>\n",
       "      <td>...</td>\n",
       "      <td>...</td>\n",
       "      <td>...</td>\n",
       "    </tr>\n",
       "    <tr>\n",
       "      <th>95</th>\n",
       "      <td>PUMA</td>\n",
       "      <td>Modern Trendy Sneakers For Men</td>\n",
       "      <td>₹1,200</td>\n",
       "    </tr>\n",
       "    <tr>\n",
       "      <th>96</th>\n",
       "      <td>corsac</td>\n",
       "      <td>Pacer Slip on V3 Sneakers For Men</td>\n",
       "      <td>₹509</td>\n",
       "    </tr>\n",
       "    <tr>\n",
       "      <th>97</th>\n",
       "      <td>BRUTON</td>\n",
       "      <td>Good Vibes Sneakers For Men</td>\n",
       "      <td>₹478</td>\n",
       "    </tr>\n",
       "    <tr>\n",
       "      <th>98</th>\n",
       "      <td>CAMPUS</td>\n",
       "      <td>Spring Edge Alpha 2 Sneakers For Men</td>\n",
       "      <td>₹556</td>\n",
       "    </tr>\n",
       "    <tr>\n",
       "      <th>99</th>\n",
       "      <td>Red Tape</td>\n",
       "      <td>Casual Sneaker Shoes For Women | Stylish and C...</td>\n",
       "      <td>₹1,517</td>\n",
       "    </tr>\n",
       "  </tbody>\n",
       "</table>\n",
       "<p>100 rows × 3 columns</p>\n",
       "</div>"
      ],
      "text/plain": [
       "       Brand                                Product Description   Price\n",
       "0       aadi  Stylish & Trending Outdoor Walking Comfortable...    ₹299\n",
       "1   URBANBOX                           PUMA UP Sneakers For Men    ₹299\n",
       "2       PUMA                             OG-D3 Sneakers For Men  ₹1,800\n",
       "3     CAMPUS  Sneaker Casual Shoes For Men | Soft Cushion In...    ₹502\n",
       "4       aadi  Sneaker Casual Shoes For Men | Soft Cushion In...    ₹360\n",
       "..       ...                                                ...     ...\n",
       "95      PUMA                     Modern Trendy Sneakers For Men  ₹1,200\n",
       "96    corsac                  Pacer Slip on V3 Sneakers For Men    ₹509\n",
       "97    BRUTON                        Good Vibes Sneakers For Men    ₹478\n",
       "98    CAMPUS               Spring Edge Alpha 2 Sneakers For Men    ₹556\n",
       "99  Red Tape  Casual Sneaker Shoes For Women | Stylish and C...  ₹1,517\n",
       "\n",
       "[100 rows x 3 columns]"
      ]
     },
     "execution_count": 810,
     "metadata": {},
     "output_type": "execute_result"
    }
   ],
   "source": [
    "import pandas as pd\n",
    "df = pd.DataFrame({'Brand':brand_list, 'Product Description':product_description_list, 'Price':price_list})\n",
    "df "
   ]
  },
  {
   "cell_type": "code",
   "execution_count": null,
   "id": "3920e115-cd31-4256-923b-3b363a12a496",
   "metadata": {},
   "outputs": [],
   "source": []
  }
 ],
 "metadata": {
  "kernelspec": {
   "display_name": "Python 3 (ipykernel)",
   "language": "python",
   "name": "python3"
  },
  "language_info": {
   "codemirror_mode": {
    "name": "ipython",
    "version": 3
   },
   "file_extension": ".py",
   "mimetype": "text/x-python",
   "name": "python",
   "nbconvert_exporter": "python",
   "pygments_lexer": "ipython3",
   "version": "3.11.7"
  }
 },
 "nbformat": 4,
 "nbformat_minor": 5
}
